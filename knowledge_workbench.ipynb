{
 "cells": [
  {
   "cell_type": "code",
   "execution_count": 1,
   "metadata": {},
   "outputs": [
    {
     "name": "stderr",
     "output_type": "stream",
     "text": [
      "Configuration loaded successfully\n",
      "INFO:run:Configuration loaded successfully\n",
      "Processing new data...\n",
      "INFO:run:Processing new data...\n",
      "INFO:root:Loading all CSV data from S3 bucket: rolling-data, prefix: data\n",
      "INFO:botocore.credentials:Found credentials in shared credentials file: ~/.aws/credentials\n"
     ]
    },
    {
     "name": "stdout",
     "output_type": "stream",
     "text": [
      "All files in directory './data' have been removed.\n",
      "Directory './data' already exists.\n",
      "Directory './data/stratified/' created successfully.\n"
     ]
    },
    {
     "name": "stderr",
     "output_type": "stream",
     "text": [
      "INFO:root:Latest date processed: 2024-12-05 00:00:00+00:00\n",
      "INFO:root:Combined data contains 5290254 rows.\n"
     ]
    },
    {
     "name": "stdout",
     "output_type": "stream",
     "text": [
      "Time column: posted_date_time, Strata column: None\n"
     ]
    },
    {
     "name": "stderr",
     "output_type": "stream",
     "text": [
      "INFO:embedding_ops:Creating knowledge base...\n",
      "Loading CSV files: 100%|██████████| 12/12 [00:00<00:00, 177.09it/s]\n",
      "Processing articles:   0%|          | 0/19 [00:00<?, ?it/s]INFO:httpx:HTTP Request: POST https://api.openai.com/v1/embeddings \"HTTP/1.1 200 OK\"\n",
      "Processing articles:   5%|▌         | 1/19 [00:01<00:25,  1.41s/it]INFO:httpx:HTTP Request: POST https://api.openai.com/v1/embeddings \"HTTP/1.1 200 OK\"\n",
      "Processing articles:  11%|█         | 2/19 [00:02<00:15,  1.06it/s]INFO:httpx:HTTP Request: POST https://api.openai.com/v1/embeddings \"HTTP/1.1 200 OK\"\n",
      "Processing articles:  16%|█▌        | 3/19 [00:03<00:15,  1.03it/s]INFO:httpx:HTTP Request: POST https://api.openai.com/v1/embeddings \"HTTP/1.1 200 OK\"\n",
      "Processing articles:  21%|██        | 4/19 [00:03<00:13,  1.07it/s]INFO:httpx:HTTP Request: POST https://api.openai.com/v1/embeddings \"HTTP/1.1 200 OK\"\n",
      "Processing articles:  26%|██▋       | 5/19 [00:04<00:13,  1.04it/s]INFO:httpx:HTTP Request: POST https://api.openai.com/v1/embeddings \"HTTP/1.1 200 OK\"\n",
      "Processing articles:  32%|███▏      | 6/19 [00:05<00:10,  1.26it/s]INFO:httpx:HTTP Request: POST https://api.openai.com/v1/embeddings \"HTTP/1.1 200 OK\"\n",
      "Processing articles:  37%|███▋      | 7/19 [00:06<00:11,  1.06it/s]INFO:httpx:HTTP Request: POST https://api.openai.com/v1/embeddings \"HTTP/1.1 200 OK\"\n",
      "Processing articles:  42%|████▏     | 8/19 [00:07<00:08,  1.25it/s]INFO:httpx:HTTP Request: POST https://api.openai.com/v1/embeddings \"HTTP/1.1 200 OK\"\n",
      "Processing articles:  47%|████▋     | 9/19 [00:08<00:08,  1.20it/s]INFO:httpx:HTTP Request: POST https://api.openai.com/v1/embeddings \"HTTP/1.1 200 OK\"\n",
      "Processing articles:  53%|█████▎    | 10/19 [00:09<00:08,  1.03it/s]INFO:httpx:HTTP Request: POST https://api.openai.com/v1/embeddings \"HTTP/1.1 200 OK\"\n",
      "Processing articles:  58%|█████▊    | 11/19 [00:09<00:06,  1.16it/s]INFO:httpx:HTTP Request: POST https://api.openai.com/v1/embeddings \"HTTP/1.1 200 OK\"\n",
      "Processing articles:  63%|██████▎   | 12/19 [00:11<00:07,  1.01s/it]INFO:httpx:HTTP Request: POST https://api.openai.com/v1/embeddings \"HTTP/1.1 200 OK\"\n",
      "Processing articles:  68%|██████▊   | 13/19 [00:12<00:06,  1.14s/it]INFO:httpx:HTTP Request: POST https://api.openai.com/v1/embeddings \"HTTP/1.1 200 OK\"\n",
      "Processing articles:  74%|███████▎  | 14/19 [00:13<00:05,  1.06s/it]INFO:httpx:HTTP Request: POST https://api.openai.com/v1/embeddings \"HTTP/1.1 200 OK\"\n",
      "Processing articles:  79%|███████▉  | 15/19 [00:14<00:04,  1.04s/it]INFO:httpx:HTTP Request: POST https://api.openai.com/v1/embeddings \"HTTP/1.1 200 OK\"\n",
      "Processing articles:  84%|████████▍ | 16/19 [00:15<00:03,  1.02s/it]INFO:httpx:HTTP Request: POST https://api.openai.com/v1/embeddings \"HTTP/1.1 200 OK\"\n",
      "Processing articles:  89%|████████▉ | 17/19 [00:16<00:01,  1.13it/s]INFO:httpx:HTTP Request: POST https://api.openai.com/v1/embeddings \"HTTP/1.1 200 OK\"\n",
      "Processing articles:  95%|█████████▍| 18/19 [00:17<00:00,  1.07it/s]INFO:httpx:HTTP Request: POST https://api.openai.com/v1/embeddings \"HTTP/1.1 200 OK\"\n",
      "Processing articles: 100%|██████████| 19/19 [00:17<00:00,  1.07it/s]\n",
      "INFO:embedding_ops:Successfully created knowledge base at ./data/knowledge_base.csv\n",
      "INFO:httpx:HTTP Request: POST https://api.openai.com/v1/embeddings \"HTTP/1.1 200 OK\"\n",
      "INFO:inference_ops:Processing text chunks\n",
      "INFO:inference_ops:Summarizing 25 chunks of text\n",
      "  0%|          | 0/25 [00:00<?, ?it/s]INFO:httpx:HTTP Request: POST https://api.x.ai/v1/chat/completions \"HTTP/1.1 429 Too Many Requests\"\n",
      "INFO:openai._base_client:Retrying request to /chat/completions in 0.945442 seconds\n",
      "INFO:httpx:HTTP Request: POST https://api.x.ai/v1/chat/completions \"HTTP/1.1 429 Too Many Requests\"\n",
      "INFO:openai._base_client:Retrying request to /chat/completions in 1.571921 seconds\n",
      "INFO:httpx:HTTP Request: POST https://api.x.ai/v1/chat/completions \"HTTP/1.1 200 OK\"\n",
      "  4%|▍         | 1/25 [00:02<01:01,  2.55s/it]INFO:httpx:HTTP Request: POST https://api.x.ai/v1/chat/completions \"HTTP/1.1 200 OK\"\n",
      "  8%|▊         | 2/25 [00:03<00:41,  1.80s/it]INFO:httpx:HTTP Request: POST https://api.x.ai/v1/chat/completions \"HTTP/1.1 200 OK\"\n",
      " 12%|█▏        | 3/25 [00:04<00:25,  1.15s/it]INFO:httpx:HTTP Request: POST https://api.x.ai/v1/chat/completions \"HTTP/1.1 200 OK\"\n",
      " 16%|█▌        | 4/25 [00:05<00:22,  1.09s/it]INFO:httpx:HTTP Request: POST https://api.x.ai/v1/chat/completions \"HTTP/1.1 200 OK\"\n",
      " 20%|██        | 5/25 [00:06<00:21,  1.06s/it]INFO:httpx:HTTP Request: POST https://api.x.ai/v1/chat/completions \"HTTP/1.1 200 OK\"\n",
      " 24%|██▍       | 6/25 [00:06<00:14,  1.34it/s]INFO:httpx:HTTP Request: POST https://api.x.ai/v1/chat/completions \"HTTP/1.1 200 OK\"\n",
      " 28%|██▊       | 7/25 [00:06<00:12,  1.40it/s]INFO:httpx:HTTP Request: POST https://api.x.ai/v1/chat/completions \"HTTP/1.1 200 OK\"\n",
      " 32%|███▏      | 8/25 [00:07<00:09,  1.82it/s]INFO:httpx:HTTP Request: POST https://api.x.ai/v1/chat/completions \"HTTP/1.1 200 OK\"\n",
      " 36%|███▌      | 9/25 [00:07<00:08,  1.83it/s]INFO:httpx:HTTP Request: POST https://api.x.ai/v1/chat/completions \"HTTP/1.1 200 OK\"\n",
      " 40%|████      | 10/25 [00:07<00:06,  2.31it/s]INFO:httpx:HTTP Request: POST https://api.x.ai/v1/chat/completions \"HTTP/1.1 200 OK\"\n",
      " 44%|████▍     | 11/25 [00:08<00:07,  1.90it/s]INFO:httpx:HTTP Request: POST https://api.x.ai/v1/chat/completions \"HTTP/1.1 200 OK\"\n",
      " 48%|████▊     | 12/25 [00:09<00:08,  1.58it/s]INFO:httpx:HTTP Request: POST https://api.x.ai/v1/chat/completions \"HTTP/1.1 200 OK\"\n",
      " 52%|█████▏    | 13/25 [00:10<00:09,  1.32it/s]INFO:httpx:HTTP Request: POST https://api.x.ai/v1/chat/completions \"HTTP/1.1 200 OK\"\n",
      " 56%|█████▌    | 14/25 [00:11<00:08,  1.34it/s]INFO:httpx:HTTP Request: POST https://api.x.ai/v1/chat/completions \"HTTP/1.1 200 OK\"\n",
      " 60%|██████    | 15/25 [00:12<00:07,  1.30it/s]INFO:httpx:HTTP Request: POST https://api.x.ai/v1/chat/completions \"HTTP/1.1 200 OK\"\n",
      " 64%|██████▍   | 16/25 [00:13<00:07,  1.20it/s]INFO:httpx:HTTP Request: POST https://api.x.ai/v1/chat/completions \"HTTP/1.1 200 OK\"\n",
      " 68%|██████▊   | 17/25 [00:13<00:05,  1.47it/s]INFO:httpx:HTTP Request: POST https://api.x.ai/v1/chat/completions \"HTTP/1.1 200 OK\"\n",
      " 72%|███████▏  | 18/25 [00:14<00:05,  1.27it/s]INFO:httpx:HTTP Request: POST https://api.x.ai/v1/chat/completions \"HTTP/1.1 200 OK\"\n",
      " 76%|███████▌  | 19/25 [00:14<00:03,  1.52it/s]INFO:httpx:HTTP Request: POST https://api.x.ai/v1/chat/completions \"HTTP/1.1 200 OK\"\n",
      " 80%|████████  | 20/25 [00:15<00:02,  1.76it/s]INFO:httpx:HTTP Request: POST https://api.x.ai/v1/chat/completions \"HTTP/1.1 200 OK\"\n",
      " 84%|████████▍ | 21/25 [00:15<00:02,  1.89it/s]INFO:httpx:HTTP Request: POST https://api.x.ai/v1/chat/completions \"HTTP/1.1 200 OK\"\n",
      " 88%|████████▊ | 22/25 [00:16<00:01,  1.82it/s]INFO:httpx:HTTP Request: POST https://api.x.ai/v1/chat/completions \"HTTP/1.1 200 OK\"\n",
      " 92%|█████████▏| 23/25 [00:17<00:01,  1.32it/s]INFO:httpx:HTTP Request: POST https://api.x.ai/v1/chat/completions \"HTTP/1.1 200 OK\"\n",
      " 96%|█████████▌| 24/25 [00:17<00:00,  1.61it/s]INFO:httpx:HTTP Request: POST https://api.x.ai/v1/chat/completions \"HTTP/1.1 200 OK\"\n",
      "100%|██████████| 25/25 [00:19<00:00,  1.29it/s]\n",
      "INFO:inference_ops:Generating final summary\n",
      "INFO:httpx:HTTP Request: POST https://api.x.ai/v1/chat/completions \"HTTP/1.1 200 OK\"\n",
      "Summary generated successfully\n",
      "INFO:run:Summary generated successfully\n"
     ]
    },
    {
     "name": "stdout",
     "output_type": "stream",
     "text": [
      "**Main Event:**\n",
      "The social media dialogue encompasses various topics, ranging from personal sentiments about current times, the importance of developers in technology, public reactions to events, geopolitical changes in the Middle East, to discussions on investment in precious metals and critiques of societal structures.\n",
      "\n",
      "**Key Insights:**\n",
      "- **Sentiment and Public Perception**: There's a mix of despair, concern, and enthusiasm reflected in the dialogues, indicating a broad spectrum of public sentiment regarding current events and societal issues.\n",
      "- **Technology and Innovation**: The emphasis on developers highlights the critical role of technology in modern society and the excitement around tech culture.\n",
      "- **Geopolitical Dynamics**: Significant changes in the Syrian civil war are noted, with implications for regional power balances involving Iran and Russia.\n",
      "- **Economic Trends**: There's a noted increase in demand for private security services and a push towards investing in precious metals due to predicted future shortages.\n",
      "- **Cultural and Social Movements**: Discussions touch on themes of resistance against disinformation, skepticism towards established authority, and the influence of media on public behavior.\n",
      "\n",
      "**Actionable Items:**\n",
      "- **Invest in Security**: Consider investing in private security company stocks due to the increased demand for security services.\n",
      "- **Precious Metals Investment**: Research and potentially invest in gold and silver, using the provided resources for buying, selling, and understanding market trends.\n",
      "- **Engage with Reddit**: Use Reddit to gauge public reactions to events for a broader understanding of collective sentiment.\n",
      "- **Stay Informed**: Keep up with geopolitical changes, especially in volatile regions like the Middle East, to understand potential impacts on global politics and economics.\n",
      "\n",
      "**Speculated Outcomes:**\n",
      "- **Security Sector Growth**: The private security sector might see significant growth due to heightened security concerns.\n",
      "- **Shift in Middle Eastern Power Dynamics**: If Assad's regime falls, it could lead to a reconfiguration of power in the Middle East, affecting Iran's and Russia's strategic positions.\n",
      "- **Increased Value of Precious Metals**: With predicted shortages, the value of gold and silver might increase, making them potentially lucrative investments.\n",
      "- **Public Awareness and Action**: Increased public awareness of disinformation and manipulation might lead to more critical consumption of media and possibly grassroots movements against perceived injustices or manipulations.\n"
     ]
    }
   ],
   "source": [
    "from run import run_knowledge_agents\n",
    "from model_ops import EmbeddingProvider\n",
    "\n",
    "# Generating summary of current events\n",
    "\n",
    "query = \"\"\"News events global local technology innovation social movements economics politics markets \n",
    "trending topics viral discussions public reactions major developments breaking news \n",
    "tech advances cultural shifts market updates political changes emerging trends\n",
    "key themes patterns notable discussions significant developments current affairs\"\"\"\n",
    "\n",
    "chunks, response = run_knowledge_agents(query=query, process_new=True, embedding_provider=EmbeddingProvider.OPENAI)\n",
    "print(response)"
   ]
  },
  {
   "cell_type": "code",
   "execution_count": 2,
   "metadata": {},
   "outputs": [
    {
     "name": "stderr",
     "output_type": "stream",
     "text": [
      "Configuration loaded successfully\n",
      "INFO:run:Configuration loaded successfully\n",
      "INFO:embedding_ops:Knowledge base './data/knowledge_base.csv' already exists. Skipping.\n",
      "INFO:httpx:HTTP Request: POST https://api.openai.com/v1/embeddings \"HTTP/1.1 200 OK\"\n",
      "INFO:inference_ops:Processing text chunks\n",
      "INFO:inference_ops:Summarizing 25 chunks of text\n",
      "  0%|          | 0/25 [00:00<?, ?it/s]INFO:httpx:HTTP Request: POST https://api.x.ai/v1/chat/completions \"HTTP/1.1 200 OK\"\n",
      "  4%|▍         | 1/25 [00:04<01:39,  4.15s/it]INFO:httpx:HTTP Request: POST https://api.x.ai/v1/chat/completions \"HTTP/1.1 200 OK\"\n",
      "INFO:httpx:HTTP Request: POST https://api.x.ai/v1/chat/completions \"HTTP/1.1 200 OK\"\n",
      "  8%|▊         | 2/25 [00:04<00:42,  1.86s/it]INFO:httpx:HTTP Request: POST https://api.x.ai/v1/chat/completions \"HTTP/1.1 200 OK\"\n",
      " 16%|█▌        | 4/25 [00:05<00:19,  1.07it/s]INFO:httpx:HTTP Request: POST https://api.x.ai/v1/chat/completions \"HTTP/1.1 200 OK\"\n",
      " 20%|██        | 5/25 [00:05<00:16,  1.23it/s]INFO:httpx:HTTP Request: POST https://api.x.ai/v1/chat/completions \"HTTP/1.1 200 OK\"\n",
      " 24%|██▍       | 6/25 [00:06<00:13,  1.38it/s]INFO:httpx:HTTP Request: POST https://api.x.ai/v1/chat/completions \"HTTP/1.1 200 OK\"\n",
      " 28%|██▊       | 7/25 [00:07<00:17,  1.03it/s]INFO:httpx:HTTP Request: POST https://api.x.ai/v1/chat/completions \"HTTP/1.1 200 OK\"\n",
      " 32%|███▏      | 8/25 [00:09<00:18,  1.07s/it]INFO:httpx:HTTP Request: POST https://api.x.ai/v1/chat/completions \"HTTP/1.1 200 OK\"\n",
      " 36%|███▌      | 9/25 [00:09<00:13,  1.15it/s]INFO:httpx:HTTP Request: POST https://api.x.ai/v1/chat/completions \"HTTP/1.1 200 OK\"\n",
      " 40%|████      | 10/25 [00:09<00:09,  1.53it/s]INFO:httpx:HTTP Request: POST https://api.x.ai/v1/chat/completions \"HTTP/1.1 200 OK\"\n",
      " 44%|████▍     | 11/25 [00:10<00:08,  1.65it/s]INFO:httpx:HTTP Request: POST https://api.x.ai/v1/chat/completions \"HTTP/1.1 200 OK\"\n",
      " 48%|████▊     | 12/25 [00:10<00:08,  1.60it/s]INFO:httpx:HTTP Request: POST https://api.x.ai/v1/chat/completions \"HTTP/1.1 200 OK\"\n",
      " 52%|█████▏    | 13/25 [00:10<00:05,  2.09it/s]INFO:httpx:HTTP Request: POST https://api.x.ai/v1/chat/completions \"HTTP/1.1 200 OK\"\n",
      "INFO:httpx:HTTP Request: POST https://api.x.ai/v1/chat/completions \"HTTP/1.1 200 OK\"\n",
      " 56%|█████▌    | 14/25 [00:11<00:05,  2.14it/s]INFO:httpx:HTTP Request: POST https://api.x.ai/v1/chat/completions \"HTTP/1.1 200 OK\"\n",
      " 64%|██████▍   | 16/25 [00:14<00:08,  1.11it/s]INFO:httpx:HTTP Request: POST https://api.x.ai/v1/chat/completions \"HTTP/1.1 200 OK\"\n",
      " 68%|██████▊   | 17/25 [00:15<00:08,  1.02s/it]INFO:httpx:HTTP Request: POST https://api.x.ai/v1/chat/completions \"HTTP/1.1 200 OK\"\n",
      " 72%|███████▏  | 18/25 [00:15<00:05,  1.27it/s]INFO:httpx:HTTP Request: POST https://api.x.ai/v1/chat/completions \"HTTP/1.1 200 OK\"\n",
      " 76%|███████▌  | 19/25 [00:15<00:03,  1.53it/s]INFO:httpx:HTTP Request: POST https://api.x.ai/v1/chat/completions \"HTTP/1.1 200 OK\"\n",
      " 80%|████████  | 20/25 [00:17<00:05,  1.00s/it]INFO:httpx:HTTP Request: POST https://api.x.ai/v1/chat/completions \"HTTP/1.1 200 OK\"\n",
      " 84%|████████▍ | 21/25 [00:18<00:03,  1.10it/s]INFO:httpx:HTTP Request: POST https://api.x.ai/v1/chat/completions \"HTTP/1.1 200 OK\"\n",
      "INFO:httpx:HTTP Request: POST https://api.x.ai/v1/chat/completions \"HTTP/1.1 200 OK\"\n",
      " 88%|████████▊ | 22/25 [00:19<00:02,  1.26it/s]INFO:httpx:HTTP Request: POST https://api.x.ai/v1/chat/completions \"HTTP/1.1 200 OK\"\n",
      " 96%|█████████▌| 24/25 [00:19<00:00,  1.91it/s]INFO:httpx:HTTP Request: POST https://api.x.ai/v1/chat/completions \"HTTP/1.1 200 OK\"\n",
      "100%|██████████| 25/25 [00:20<00:00,  1.23it/s]\n",
      "INFO:inference_ops:Generating final summary\n",
      "INFO:httpx:HTTP Request: POST https://api.x.ai/v1/chat/completions \"HTTP/1.1 200 OK\"\n",
      "Summary generated successfully\n",
      "INFO:run:Summary generated successfully\n"
     ]
    },
    {
     "name": "stdout",
     "output_type": "stream",
     "text": [
      "**Summary:**\n",
      "\n",
      "The provided text snippets cover a range of topics from market analysis, investment strategies, geopolitical changes, to social media dynamics and philosophical sentiments. Here is an objective summary:\n",
      "\n",
      "**Main Event:**\n",
      "- The text snippets do not describe a singular main event but rather discuss various events and trends across different sectors and contexts.\n",
      "\n",
      "**Key Insights:**\n",
      "1. **Market Analysis and Investment Opportunities**: \n",
      "   - There's a discussion on the potential growth in the private security sector due to an unspecified event, suggesting investment opportunities in related stocks.\n",
      "   - A comparison is made between current market conditions and the 1999 dot com bubble, indicating concerns about overvaluation or speculative bubbles in the market.\n",
      "   - Investment in cryptocurrencies like XRP and EOS is advocated, with a focus on what are considered \"bluechip\" cryptocurrencies.\n",
      "\n",
      "2. **Geopolitical Changes**: \n",
      "   - Significant shifts in the Syrian civil war are noted, with potential implications for regional power dynamics, particularly affecting Iran and Russia's strategic interests.\n",
      "\n",
      "3. **Social Media and Community Dynamics**: \n",
      "   - Discussions on the rapid pace of change in social media trends, the use of specific terminology like \"hodlers\" and \"ressentiment,\" and the call for community engagement or action.\n",
      "\n",
      "4. **Philosophical and Emotional Sentiments**: \n",
      "   - Expressions of despair or concern about current times, and discussions on complex emotional states like ressentiment.\n",
      "\n",
      "5. **Technological Shifts**: \n",
      "   - A shift from centralized to decentralized technology ecosystems, incorporating AI, blockchain, and Web3 technologies.\n",
      "\n",
      "**Actionable Items:**\n",
      "- **Investment**: Consider investing in private security stocks, cryptocurrencies like XRP and EOS, and be cautious of market bubbles.\n",
      "- **Education**: Stay informed about technological advancements, particularly in decentralized systems, and engage with community discussions to better understand and utilize new technologies.\n",
      "- **Engagement**: Participate in social media dialogues to gauge interest or revive discussions on specific topics.\n",
      "\n",
      "**Speculated Outcomes:**\n",
      "- **Market Volatility**: Potential for market corrections or crashes if current trends are indeed reminiscent of past bubbles.\n",
      "- **Geopolitical Shifts**: Changes in Middle Eastern power dynamics could lead to shifts in international relations and strategic military positioning.\n",
      "- **Community Influence**: Increased community engagement might lead to better-informed users, potentially influencing platform policies or the direction of technology development.\n",
      "\n",
      "**Financial Trends and Considerations:**\n",
      "- **Assets to Consider**: \n",
      "  - Private security stocks due to anticipated demand.\n",
      "  - Cryptocurrencies like XRP and EOS, viewed as stable or promising investments.\n",
      "  - Precious metals like gold and silver, especially in light of potential future shortages.\n",
      "\n",
      "This summary encapsulates the diverse topics discussed, focusing on the factual insights and potential actions without promoting or criticizing any particular viewpoint.\n"
     ]
    }
   ],
   "source": [
    "# Generating summary of market conditions\n",
    "\n",
    "query = \"\"\"Market analysis investment opportunities trading signals price movements valuations\n",
    "financial trends bull bear markets volatility risk sentiment technical analysis fundamentals\n",
    "equities stocks bonds fixed income cryptocurrencies digital assets commodities forex\n",
    "institutional flows retail sentiment market makers liquidity conditions trading volumes\n",
    "mergers acquisitions earnings reports economic indicators monetary policy central banksw\n",
    "market structure systematic risks arbitrage opportunities yield curves spreads correlations\"\"\"\n",
    "\n",
    "chunks, response = run_knowledge_agents(query=query, process_new=False, embedding_provider=EmbeddingProvider.OPENAI)\n",
    "print(response)"
   ]
  }
 ],
 "metadata": {
  "kernelspec": {
   "display_name": ".conda",
   "language": "python",
   "name": "python3"
  },
  "language_info": {
   "codemirror_mode": {
    "name": "ipython",
    "version": 3
   },
   "file_extension": ".py",
   "mimetype": "text/x-python",
   "name": "python",
   "nbconvert_exporter": "python",
   "pygments_lexer": "ipython3",
   "version": "3.9.18"
  }
 },
 "nbformat": 4,
 "nbformat_minor": 2
}
